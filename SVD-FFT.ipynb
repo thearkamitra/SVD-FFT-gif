{
  "nbformat": 4,
  "nbformat_minor": 0,
  "metadata": {
    "colab": {
      "name": "Untitled24.ipynb",
      "provenance": [],
      "collapsed_sections": []
    },
    "kernelspec": {
      "name": "python3",
      "display_name": "Python 3"
    },
    "language_info": {
      "name": "python"
    }
  },
  "cells": [
    {
      "cell_type": "code",
      "execution_count": 1,
      "metadata": {
        "id": "Q0mEeqGSW2fL"
      },
      "outputs": [],
      "source": [
        "from PIL import Image\n",
        "import numpy as np\n",
        "image = Image.open('image.png')"
      ]
    },
    {
      "cell_type": "code",
      "source": [
        "img = np.asarray(image)"
      ],
      "metadata": {
        "id": "f2FFqU4OXOu-"
      },
      "execution_count": 2,
      "outputs": []
    },
    {
      "cell_type": "code",
      "source": [
        "import matplotlib.pyplot as plt\n",
        "img_ = np.mean(img,axis=-1)\n",
        "U, D, VT = np.linalg.svd(img_/255)"
      ],
      "metadata": {
        "id": "fyipKEZoXR-t"
      },
      "execution_count": 3,
      "outputs": []
    },
    {
      "cell_type": "code",
      "source": [
        ""
      ],
      "metadata": {
        "id": "qngPXDc3XuwY"
      },
      "execution_count": 3,
      "outputs": []
    },
    {
      "cell_type": "code",
      "source": [
        "def transform(img_):\n",
        "    f = np.fft.fft2(img_)\n",
        "    f_shift = np.fft.fftshift(f)\n",
        "    f_complex = f_shift\n",
        "    f_abs = np.abs(f_complex) + 1 # lie between 1 and 1e6\n",
        "    f_bounded = 20 * np.log(f_abs)\n",
        "    return f_bounded"
      ],
      "metadata": {
        "id": "An0xhGKraqVt"
      },
      "execution_count": 4,
      "outputs": []
    },
    {
      "cell_type": "code",
      "source": [
        ""
      ],
      "metadata": {
        "id": "WqgqhCinh_pk"
      },
      "execution_count": 4,
      "outputs": []
    },
    {
      "cell_type": "code",
      "source": [
        "plt.plot(D)\n",
        "plt.xlabel(\"Number of eigenvalues\")\n",
        "plt.ylabel(\"Abs value of the eigenvalue\")"
      ],
      "metadata": {
        "id": "FlERFECTatCY",
        "colab": {
          "base_uri": "https://localhost:8080/",
          "height": 296
        },
        "outputId": "6923b6f0-80b8-4525-bbeb-211c163644c9"
      },
      "execution_count": 11,
      "outputs": [
        {
          "output_type": "execute_result",
          "data": {
            "text/plain": [
              "Text(0, 0.5, 'Abs value of the eigenvalue')"
            ]
          },
          "metadata": {},
          "execution_count": 11
        },
        {
          "output_type": "display_data",
          "data": {
            "image/png": "[encoded data removed]",
            "text/plain": [
              "<Figure size 432x288 with 1 Axes>"
            ]
          },
          "metadata": {
            "needs_background": "light"
          }
        }
      ]
    },
    {
      "cell_type": "code",
      "source": [
        ""
      ],
      "metadata": {
        "id": "fdrxHmf_a0sL"
      },
      "execution_count": 4,
      "outputs": []
    },
    {
      "cell_type": "code",
      "source": [
        "images = []\n",
        "image_ = np.zeros_like(img_)\n",
        "images_fft = []\n",
        "D_true = np.zeros_like(img_)\n",
        "lmax = 0\n",
        "for i in range(len(D)):\n",
        "    image_ += np.outer(U[:,i],VT[i,:])*D[i]\n",
        "    image_fft = transform(image_)\n",
        "    # images.append(np.copy(image_))\n",
        "    images_fft.append(np.copy(image_fft))\n",
        "    l = np.max(image_fft)\n",
        "    if type(lmax) ==int:\n",
        "        print(\"Ok\")\n",
        "        lmax = l\n",
        "    if l>lmax:\n",
        "        lmax = l"
      ],
      "metadata": {
        "id": "jUTQF0SCXV7I",
        "colab": {
          "base_uri": "https://localhost:8080/"
        },
        "outputId": "2da9ddc1-4bd1-40f3-878a-f388b6bf6779"
      },
      "execution_count": 5,
      "outputs": [
        {
          "output_type": "stream",
          "name": "stdout",
          "text": [
            "Ok\n"
          ]
        }
      ]
    },
    {
      "cell_type": "code",
      "source": [
        ""
      ],
      "metadata": {
        "id": "rxbQ-2etgqRS"
      },
      "execution_count": 5,
      "outputs": []
    },
    {
      "cell_type": "code",
      "source": [
        ""
      ],
      "metadata": {
        "id": "HcARJ0dxhrXQ"
      },
      "execution_count": 5,
      "outputs": []
    },
    {
      "cell_type": "code",
      "source": [
        ""
      ],
      "metadata": {
        "id": "-2IplBnqfhtk"
      },
      "execution_count": 5,
      "outputs": []
    },
    {
      "cell_type": "code",
      "source": [
        "images_PIL = [Image.fromarray((x*255).astype(np.uint8),mode='P') for x in images]"
      ],
      "metadata": {
        "id": "Fr9IWST1YB6R"
      },
      "execution_count": 6,
      "outputs": []
    },
    {
      "cell_type": "code",
      "source": [
        "images_PIL[0].save('animated.gif',\n",
        "               save_all = True, append_images = images_PIL[1:],\n",
        "               optimize = False, duration = 60)"
      ],
      "metadata": {
        "id": "ku9MPzxSYoNN"
      },
      "execution_count": 7,
      "outputs": []
    },
    {
      "cell_type": "code",
      "source": [
        "images_fft_PIL = [Image.fromarray((x*255/lmax).astype(np.uint8),mode='P') for x in images_fft]"
      ],
      "metadata": {
        "id": "bn8Jo934YqlB"
      },
      "execution_count": 8,
      "outputs": []
    },
    {
      "cell_type": "code",
      "source": [
        "images_fft_PIL[0].save('animated_fft.gif',\n",
        "               save_all = True, append_images = images_fft_PIL[1:],\n",
        "               optimize = True, duration = 60)\n"
      ],
      "metadata": {
        "id": "IwS-v4OZY0jK"
      },
      "execution_count": 12,
      "outputs": []
    },
    {
      "cell_type": "code",
      "source": [
        "i = 0\n",
        "plt.imsave(\"initial.png\",np.outer(U[:,i],VT[i,:])*D[i], cmap=\"gray\")"
      ],
      "metadata": {
        "id": "F0DwSoiaZBkd"
      },
      "execution_count": 15,
      "outputs": []
    },
    {
      "cell_type": "code",
      "source": [
        ""
      ],
      "metadata": {
        "id": "Sqxk5r4TZYct",
        "colab": {
          "base_uri": "https://localhost:8080/"
        },
        "outputId": "0d66d1b0-19a5-4721-a3d8-ffb2993010e3"
      },
      "execution_count": 16,
      "outputs": [
        {
          "output_type": "stream",
          "name": "stdout",
          "text": [
            "animated_fft.gif  animated.gif  image.png  initial.png  \u001b[0m\u001b[01;34msample_data\u001b[0m/\n"
          ]
        }
      ]
    },
    {
      "cell_type": "code",
      "source": [
        ""
      ],
      "metadata": {
        "id": "tN1dr3qzuwZa"
      },
      "execution_count": null,
      "outputs": []
    }
  ]
}